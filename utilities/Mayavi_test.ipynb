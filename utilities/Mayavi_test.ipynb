{
 "cells": [
  {
   "attachments": {},
   "cell_type": "markdown",
   "metadata": {},
   "source": [
    "https://stackoverflow.com/questions/25286811/how-to-plot-a-3d-density-map-in-python-with-matplotlib"
   ]
  },
  {
   "cell_type": "code",
   "execution_count": 1,
   "metadata": {},
   "outputs": [],
   "source": [
    "import numpy as np\n",
    "from scipy import stats\n",
    "from mayavi import mlab\n",
    "\n",
    "mu, sigma = 0, 0.1 \n",
    "x = 10*np.random.normal(mu, sigma, 5000)\n",
    "y = 10*np.random.normal(mu, sigma, 5000)\n",
    "z = 10*np.random.normal(mu, sigma, 5000)\n",
    "\n",
    "xyz = np.vstack([x,y,z])\n",
    "kde = stats.gaussian_kde(xyz)\n",
    "density = kde(xyz)\n",
    "\n",
    "# Plot scatter with mayavi\n",
    "figure = mlab.figure('DensityPlot')\n",
    "pts = mlab.points3d(x, y, z, density, scale_mode='none', scale_factor=0.07)\n",
    "mlab.axes()\n",
    "mlab.show()"
   ]
  },
  {
   "cell_type": "code",
   "execution_count": 2,
   "metadata": {},
   "outputs": [
    {
     "name": "stderr",
     "output_type": "stream",
     "text": [
      "/home/jj/.local/lib/python3.8/site-packages/traitsui/qt4/clipboard.py:28: FutureWarning: The pyface.ui.qt4.* modules have moved to pyface.ui.qt.*.\n",
      "\n",
      "Applications which require backwards compatibility can either:\n",
      "\n",
      "- set the ETS_QT4_IMPORTS environment variable\n",
      "- set the ETS_TOOLKIT environment variable to \"qt4\",\n",
      "- the ETSConfig.toolkit to \"qt4\"\n",
      "- install pyface.ui.ShadowedModuleFinder() into sys.meta_path\n",
      "\n",
      "  from pyface.ui.qt4.mimedata import PyMimeData, str2bytes\n",
      "qt.gui.imageio: libpng warning: iCCP: known incorrect sRGB profile\n",
      "Exception occurred in traits notification handler for object: <traitsui.ui_info.UIInfo object at 0x7f57c8212e00>, trait: initialized, old value: False, new value: True\n",
      "Traceback (most recent call last):\n",
      "  File \"/home/jj/.local/lib/python3.8/site-packages/traits/trait_notifiers.py\", line 524, in _dispatch_change_event\n",
      "    self.dispatch(handler, *args)\n",
      "  File \"/home/jj/.local/lib/python3.8/site-packages/traits/trait_notifiers.py\", line 486, in dispatch\n",
      "    handler(*args)\n",
      "  File \"/home/jj/.local/lib/python3.8/site-packages/mayavi/core/ui/engine_rich_view.py\", line 58, in select_selected\n",
      "    tree_editor.trait_set(selected=None, trait_change_notify=False)\n",
      "  File \"/home/jj/.local/lib/python3.8/site-packages/traits/has_traits.py\", line 1505, in trait_set\n",
      "    setattr(self, name, value)\n",
      "traits.trait_errors.TraitError: Cannot set the undefined 'selected' attribute of a 'SimpleEditor' object.\n"
     ]
    }
   ],
   "source": [
    "# Plot scatter with mayavi\n",
    "figure = mlab.figure('DensityPlot')\n",
    "figure.scene.disable_render = True\n",
    "\n",
    "pts = mlab.points3d(x, y, z, density, scale_mode='none', scale_factor=0.07) \n",
    "mask = pts.glyph.mask_points\n",
    "mask.maximum_number_of_points = x.size\n",
    "mask.on_ratio = 1\n",
    "pts.glyph.mask_input_points = True\n",
    "\n",
    "figure.scene.disable_render = False \n",
    "mlab.axes()\n",
    "mlab.show()"
   ]
  },
  {
   "cell_type": "code",
   "execution_count": 3,
   "metadata": {},
   "outputs": [],
   "source": [
    "import numpy as np\n",
    "from scipy import stats\n",
    "from mayavi import mlab\n",
    "\n",
    "mu, sigma = 0, 0.1 \n",
    "x = 10*np.random.normal(mu, sigma, 5000)\n",
    "y = 10*np.random.normal(mu, sigma, 5000)    \n",
    "z = 10*np.random.normal(mu, sigma, 5000)\n",
    "\n",
    "xyz = np.vstack([x,y,z])\n",
    "kde = stats.gaussian_kde(xyz)\n",
    "\n",
    "# Evaluate kde on a grid\n",
    "xmin, ymin, zmin = x.min(), y.min(), z.min()\n",
    "xmax, ymax, zmax = x.max(), y.max(), z.max()\n",
    "xi, yi, zi = np.mgrid[xmin:xmax:30j, ymin:ymax:30j, zmin:zmax:30j]\n",
    "coords = np.vstack([item.ravel() for item in [xi, yi, zi]]) \n",
    "density = kde(coords).reshape(xi.shape)\n",
    "\n",
    "# Plot scatter with mayavi\n",
    "figure = mlab.figure('DensityPlot')\n",
    "\n",
    "grid = mlab.pipeline.scalar_field(xi, yi, zi, density)\n",
    "min = density.min()\n",
    "max=density.max()\n",
    "mlab.pipeline.volume(grid, vmin=min, vmax=min + .5*(max-min))\n",
    "\n",
    "mlab.axes()\n",
    "mlab.show()"
   ]
  }
 ],
 "metadata": {
  "kernelspec": {
   "display_name": "Python 3",
   "language": "python",
   "name": "python3"
  },
  "language_info": {
   "codemirror_mode": {
    "name": "ipython",
    "version": 3
   },
   "file_extension": ".py",
   "mimetype": "text/x-python",
   "name": "python",
   "nbconvert_exporter": "python",
   "pygments_lexer": "ipython3",
   "version": "3.8.10"
  },
  "orig_nbformat": 4
 },
 "nbformat": 4,
 "nbformat_minor": 2
}
