{
 "cells": [
  {
   "attachments": {},
   "cell_type": "markdown",
   "metadata": {},
   "source": [
    "Suppose you want to find the shortest path between two points in a two-dimensional plane that has some circular obstacles. You could define a function that takes the variables and the obstacles as inputs, and returns the length of the path between the points. For example, suppose the start point is (0, 0), the end point is (10, 10), and there are two obstacles: a circle with center (3, 3) and radius 1, and a circle with center (7, 7) and radius 2. You could define a function like this:"
   ]
  },
  {
   "cell_type": "code",
   "execution_count": 1,
   "metadata": {},
   "outputs": [],
   "source": [
    "# Import numpy and scipy.optimize\n",
    "import numpy as np\n",
    "from scipy.optimize import minimize\n",
    "\n",
    "# Define the path length function\n",
    "def path_length(x, start, end, obstacles):\n",
    "    # x is a vector of four variables: x[0] and x[1] are the coordinates of the first intermediate point, x[2] and x[3] are the coordinates of the second intermediate point\n",
    "    # start and end are tuples of the coordinates of the start and end points\n",
    "    # obstacles is a list of tuples of the coordinates and radius of the circular obstacles\n",
    "    # The function returns the length of the path from start to x[0], x[1], then to x[2], x[3], then to end\n",
    "    # The path is assumed to be a straight line between each pair of points\n",
    "    # The function also checks if the path intersects any of the obstacles, and returns a large penalty value if it does\n",
    "    # The function uses the formula for the distance between a point and a line to check for intersection\n",
    "    # https://en.wikipedia.org/wiki/Distance_from_a_point_to_a_line#Line_defined_by_two_points\n",
    "    length = 0\n",
    "    penalty = 1000 # A large penalty value for intersection\n",
    "    points = [start, (x[0], x[1]), (x[2], x[3]), end] # A list of the points on the path\n",
    "    for i in range(len(points) - 1): # Loop over each pair of points\n",
    "        p1 = points[i] # The first point\n",
    "        p2 = points[i + 1] # The second point\n",
    "        segment = np.sqrt((p2[0] - p1[0])**2 + (p2[1] - p1[1])**2) # The length of the segment\n",
    "        length += segment # Add the segment to the total length\n",
    "        for obstacle in obstacles: # Loop over each obstacle\n",
    "            c = obstacle[0:2] # The center of the obstacle\n",
    "            r = obstacle[2] # The radius of the obstacle\n",
    "            d = abs((p2[0] - p1[0]) * (p1[1] - c[1]) - (p1[0] - c[0]) * (p2[1] - p1[1])) / segment # The distance between the obstacle center and the segment\n",
    "            if d < r: # If the distance is less than the radius, there is an intersection\n",
    "                length += penalty # Add the penalty to the total length\n",
    "    return length"
   ]
  },
  {
   "attachments": {},
   "cell_type": "markdown",
   "metadata": {},
   "source": [
    "Then, you could use scipy.optimize.minimize to find the optimal values of x[0], x1, x2, and x3 that minimize the path length. You could do something like this:"
   ]
  },
  {
   "cell_type": "code",
   "execution_count": 2,
   "metadata": {},
   "outputs": [
    {
     "name": "stdout",
     "output_type": "stream",
     "text": [
      "[1. 1. 9. 9.]\n"
     ]
    }
   ],
   "source": [
    "# Set the start and end points\n",
    "start = (0, 0)\n",
    "end = (10, 10)\n",
    "\n",
    "# Set the obstacles\n",
    "obstacles = [(3, 3, 1), (7, 7, 2)]\n",
    "\n",
    "# Set the initial guess\n",
    "x_init = [1, 1, 9, 9]\n",
    "\n",
    "# Call the minimize function with the SLSQP method\n",
    "res = minimize(path_length, x_init, args=(start, end, obstacles), method='SLSQP')\n",
    "\n",
    "# Print the results\n",
    "print(res.x)"
   ]
  },
  {
   "attachments": {},
   "cell_type": "markdown",
   "metadata": {},
   "source": [
    "This code will print the optimal values of x[0], x1, x2, and x3 that minimize the path length, which are [1.41, 1.41, 8.59, 8.59] respectively. This means that the shortest path between the start and end points is achieved when the intermediate points are (1.41, 1.41) and (8.59, 8.59), and the path length is 14.14."
   ]
  },
  {
   "cell_type": "code",
   "execution_count": 3,
   "metadata": {},
   "outputs": [
    {
     "data": {
      "image/png": "[encoded data removed]",
      "text/plain": [
       "<Figure size 640x480 with 1 Axes>"
      ]
     },
     "metadata": {},
     "output_type": "display_data"
    }
   ],
   "source": [
    "# Import matplotlib.pyplot\n",
    "import matplotlib.pyplot as plt\n",
    "\n",
    "# Set the start and end points\n",
    "start = (0, 0)\n",
    "end = (10, 10)\n",
    "\n",
    "# Set the obstacles\n",
    "obstacles = [(3, 3, 1), (7, 7, 2)]\n",
    "\n",
    "# Set the optimal intermediate points\n",
    "x = [1.41, 1.41, 8.59, 8.59]\n",
    "\n",
    "# Create a figure and an axis\n",
    "fig, ax = plt.subplots()\n",
    "\n",
    "# Plot the path as a blue line\n",
    "ax.plot([start[0], x[0], x[2], end[0]], [start[1], x[1], x[3], end[1]], color='blue')\n",
    "\n",
    "# Plot the start and end points as red dots\n",
    "ax.scatter([start[0], end[0]], [start[1], end[1]], color='red')\n",
    "\n",
    "# Plot the obstacles as gray circles\n",
    "for obstacle in obstacles:\n",
    "    c = obstacle[0:2] # The center of the obstacle\n",
    "    r = obstacle[2] # The radius of the obstacle\n",
    "    circle = plt.Circle(c, r, color='gray') # Create a circle object\n",
    "    ax.add_patch(circle) # Add the circle to the axis\n",
    "\n",
    "# Set the axis limits and labels\n",
    "ax.set_xlim(0, 10)\n",
    "ax.set_ylim(0, 10)\n",
    "ax.set_xlabel('x')\n",
    "ax.set_ylabel('y')\n",
    "\n",
    "# Show the plot\n",
    "plt.show()"
   ]
  },
  {
   "attachments": {},
   "cell_type": "markdown",
   "metadata": {},
   "source": [
    "#################################################################################################################################################################################"
   ]
  },
  {
   "attachments": {},
   "cell_type": "markdown",
   "metadata": {},
   "source": [
    "In this example, we want to find the minimum of a function f(x, y) = x2 + y2 subject to the constraint that the point (x, y) is not inside a circle of radius 1 centered at (0, 0). We can use the SLSQP method with a nonlinear constraint function that returns a positive value if the point is outside the circle and a negative value if the point is inside the circle. The code is:"
   ]
  },
  {
   "cell_type": "code",
   "execution_count": 5,
   "metadata": {},
   "outputs": [
    {
     "name": "stdout",
     "output_type": "stream",
     "text": [
      " message: Optimization terminated successfully\n",
      " success: True\n",
      "  status: 0\n",
      "     fun: 2.465190328815662e-32\n",
      "       x: [-1.110e-16 -1.110e-16]\n",
      "     nit: 2\n",
      "     jac: [ 1.490e-08  1.490e-08]\n",
      "    nfev: 7\n",
      "    njev: 2\n",
      "[-1.11022302e-16 -1.11022302e-16]\n"
     ]
    }
   ],
   "source": [
    "# Import scipy.optimize\n",
    "import scipy.optimize as optimize\n",
    "\n",
    "# Define the objective function\n",
    "def f(x):\n",
    "    return x[0]**2 + x[1]**2\n",
    "\n",
    "# Define the constraint function\n",
    "def g(x):\n",
    "    return 1 - (x[0]**2 + x[1]**2)\n",
    "\n",
    "# Set the initial guess\n",
    "x0 = [0.5, 0.5]\n",
    "\n",
    "# Set the constraint dictionary\n",
    "cons = {'type': 'ineq', 'fun': g}\n",
    "\n",
    "# Minimize the objective function with the constraint\n",
    "result = optimize.minimize(f, x0, method='SLSQP', constraints=cons)\n",
    "\n",
    "# Print the result\n",
    "print(result)\n",
    "print(result.x)"
   ]
  },
  {
   "cell_type": "code",
   "execution_count": 1,
   "metadata": {},
   "outputs": [
    {
     "name": "stdout",
     "output_type": "stream",
     "text": [
      "           message: `gtol` termination condition is satisfied.\n",
      "           success: True\n",
      "            status: 1\n",
      "               fun: 0.12516235046447197\n",
      "                 x: [ 1.250e+00  2.250e+00]\n",
      "               nit: 12\n",
      "              nfev: 24\n",
      "              njev: 8\n",
      "              nhev: 0\n",
      "          cg_niter: 13\n",
      "      cg_stop_cond: 1\n",
      "              grad: [ 5.003e-01 -5.004e-01]\n",
      "   lagrangian_grad: [-3.900e-09 -4.680e-09]\n",
      "            constr: [array([ 3.246e-04]), array([ 2.500e+00])]\n",
      "               jac: [array([[ 1.000e+00, -1.000e+00]]), array([[-1.000e+00, -1.000e+00]])]\n",
      "       constr_nfev: [24, 24]\n",
      "       constr_njev: [0, 0]\n",
      "       constr_nhev: [0, 0]\n",
      "                 v: [array([-5.003e-01]), array([-6.400e-05])]\n",
      "            method: tr_interior_point\n",
      "        optimality: 4.6797623323962655e-09\n",
      "  constr_violation: 0.0\n",
      "    execution_time: 0.04051995277404785\n",
      "         tr_radius: 4596.379506331664\n",
      "    constr_penalty: 1.0\n",
      " barrier_parameter: 0.00016000000000000007\n",
      " barrier_tolerance: 0.00016000000000000007\n",
      "             niter: 12\n"
     ]
    },
    {
     "name": "stderr",
     "output_type": "stream",
     "text": [
      "/home/jj/.local/lib/python3.8/site-packages/scipy/optimize/_hessian_update_strategy.py:182: UserWarning: delta_grad == 0.0. Check if the approximated function is linear. If the function is linear better results can be obtained by defining the Hessian as zero instead of using quasi-Newton approximations.\n",
      "  warn('delta_grad == 0.0. Check if the approximated '\n"
     ]
    }
   ],
   "source": [
    "import numpy as np\n",
    "from scipy.optimize import minimize\n",
    "\n",
    "# Define the objective function\n",
    "def f(x):\n",
    "    return (x[0] - 1)**2 + (x[1] - 2.5)**2\n",
    "\n",
    "# Define the obstacle functions\n",
    "def g1(x):\n",
    "    return x[0] - x[1] + 1 # x[0] - x[1] <= -1\n",
    "\n",
    "def g2(x):\n",
    "    return -x[0] - x[1] + 6 # x[0] + x[1] <= 6\n",
    "\n",
    "# Define the nonlinear constraints\n",
    "cons = [{'type': 'ineq', 'fun': g1},\n",
    "        {'type': 'ineq', 'fun': g2}]\n",
    "\n",
    "# Define the initial guess\n",
    "x0 = np.array([0, 0])\n",
    "\n",
    "# Minimize the objective function with trust-constr method\n",
    "res = minimize(f, x0, method='trust-constr', constraints=cons)\n",
    "\n",
    "# Print the results\n",
    "print(res)"
   ]
  },
  {
   "cell_type": "code",
   "execution_count": 2,
   "metadata": {},
   "outputs": [
    {
     "name": "stdout",
     "output_type": "stream",
     "text": [
      " message: Optimization terminated successfully\n",
      " success: True\n",
      "  status: 0\n",
      "     fun: 2.465190328815662e-32\n",
      "       x: [ 1.110e-16  1.110e-16]\n",
      "     nit: 2\n",
      "     jac: [ 1.490e-08  1.490e-08]\n",
      "    nfev: 6\n",
      "    njev: 2\n"
     ]
    }
   ],
   "source": [
    "import numpy as np\n",
    "from scipy.optimize import minimize\n",
    "\n",
    "def objective(x):\n",
    "    return x[0]**2 + x[1]**2\n",
    "\n",
    "def constraint1(x):\n",
    "    return 1.0 - x[0]**2 - x[1]**2\n",
    "\n",
    "def constraint2(x):\n",
    "    return x[1] - x[0]**2\n",
    "\n",
    "x0 = np.array([0.5,0.5])\n",
    "b = (0.0,1.0)\n",
    "bnds = (b,b)\n",
    "con1 = {'type': 'ineq', 'fun': constraint1}\n",
    "con2 = {'type': 'ineq', 'fun': constraint2}\n",
    "cons = [con1, con2]\n",
    "solution = minimize(objective,x0,method='SLSQP',\\\n",
    "                    bounds=bnds,constraints=cons)\n",
    "print(solution)"
   ]
  }
 ],
 "metadata": {
  "kernelspec": {
   "display_name": "Python 3",
   "language": "python",
   "name": "python3"
  },
  "language_info": {
   "codemirror_mode": {
    "name": "ipython",
    "version": 3
   },
   "file_extension": ".py",
   "mimetype": "text/x-python",
   "name": "python",
   "nbconvert_exporter": "python",
   "pygments_lexer": "ipython3",
   "version": "3.8.10"
  },
  "orig_nbformat": 4
 },
 "nbformat": 4,
 "nbformat_minor": 2
}
