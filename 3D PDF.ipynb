{
 "cells": [
  {
   "cell_type": "code",
   "execution_count": 1,
   "metadata": {},
   "outputs": [
    {
     "ename": "NameError",
     "evalue": "name 'plotly' is not defined",
     "output_type": "error",
     "traceback": [
      "\u001b[0;31m---------------------------------------------------------------------------\u001b[0m",
      "\u001b[0;31mNameError\u001b[0m                                 Traceback (most recent call last)",
      "\u001b[1;32m/home/jj/Work/bspline_opt/3D PDF.ipynb Cell 1\u001b[0m in \u001b[0;36m5\n\u001b[1;32m     <a href='vscode-notebook-cell:/home/jj/Work/bspline_opt/3D%20PDF.ipynb#W0sZmlsZQ%3D%3D?line=53'>54</a>\u001b[0m fig \u001b[39m=\u001b[39m go\u001b[39m.\u001b[39mFigure(data\u001b[39m=\u001b[39m[gau, line1])\n\u001b[1;32m     <a href='vscode-notebook-cell:/home/jj/Work/bspline_opt/3D%20PDF.ipynb#W0sZmlsZQ%3D%3D?line=55'>56</a>\u001b[0m fig\u001b[39m.\u001b[39mupdate_layout(height\u001b[39m=\u001b[39m\u001b[39m800\u001b[39m, width\u001b[39m=\u001b[39m\u001b[39m800\u001b[39m)\n\u001b[0;32m---> <a href='vscode-notebook-cell:/home/jj/Work/bspline_opt/3D%20PDF.ipynb#W0sZmlsZQ%3D%3D?line=56'>57</a>\u001b[0m plotly\u001b[39m.\u001b[39moffline\u001b[39m.\u001b[39miplot(fig, filename\u001b[39m=\u001b[39m\u001b[39m'\u001b[39m\u001b[39msimple-3d-scatter\u001b[39m\u001b[39m'\u001b[39m)\n\u001b[1;32m     <a href='vscode-notebook-cell:/home/jj/Work/bspline_opt/3D%20PDF.ipynb#W0sZmlsZQ%3D%3D?line=57'>58</a>\u001b[0m \u001b[39m# fig.show()\u001b[39;00m\n",
      "\u001b[0;31mNameError\u001b[0m: name 'plotly' is not defined"
     ]
    }
   ],
   "source": [
    "import numpy as np\n",
    "import matplotlib.pyplot as plt\n",
    "from mpl_toolkits.mplot3d import Axes3D\n",
    "from scipy.stats import multivariate_normal\n",
    "import plotly.graph_objects as go\n",
    "import plotly.figure_factory as ff\n",
    "import plotly\n",
    "plotly.offline.init_notebook_mode()\n",
    "\n",
    "\n",
    "mean = np.array([0.0, 0.0, 0.0])\n",
    "cov = np.array([[1.0, 0.5, 0.5], [0.5, 1.0, 0.5], [0.5, 0.5, 1.0]])\n",
    "x = np.linspace(-3.0, 3.0, 40)\n",
    "y = np.linspace(-3.0, 3.0, 40)\n",
    "z = np.linspace(-3.0, 3.0, 40)\n",
    "X, Y, Z = np.meshgrid(x, y, z)\n",
    "# pos = np.dstack((X, Y, Z ))\n",
    "pos = np.empty(X.shape + (3,))\n",
    "pos[:, :, :, 0] = X\n",
    "pos[:, :, :, 1] = Y\n",
    "pos[:, :, :, 2] = Z\n",
    "rv = multivariate_normal(mean, cov)\n",
    "W = rv.pdf(pos)\n",
    "\n",
    "w, v = np.linalg.eig(cov)\n",
    "\n",
    "# Create quiver figure\n",
    "x_lines = list()\n",
    "y_lines = list()\n",
    "z_lines = list()\n",
    "for i in range(3):\n",
    "    x_lines.append(mean[0])\n",
    "    y_lines.append(mean[1])\n",
    "    z_lines.append(mean[2])\n",
    "    x_lines.append(v[0][i]*w[i])\n",
    "    y_lines.append(v[1][i]*w[i])\n",
    "    z_lines.append(v[2][i]*w[i])\n",
    "    x_lines.append(None)\n",
    "    y_lines.append(None)\n",
    "    z_lines.append(None)\n",
    "    \n",
    "line1 =go.Scatter3d(x=x_lines, y=y_lines, z=z_lines, mode='lines+markers', \n",
    "                    line=dict(width=3, color='green'), marker=dict(size=2))\n",
    "\n",
    "gau = go.Volume(\n",
    "    x=X.flatten(), y=Y.flatten(), z=Z.flatten(),\n",
    "    value=W.flatten(),\n",
    "    isomin=0.01,\n",
    "    # isomax=0.7,\n",
    "    opacity=0.1,\n",
    "    surface_count=8,\n",
    "    # slices_z=dict(show=True, locations=[0.4]),\n",
    "    surface=dict(fill=0.7, pattern='odd'),\n",
    "    caps= dict(x_show=False, y_show=False, z_show=False), # no caps\n",
    "    )\n",
    "\n",
    "fig = go.Figure(data=[gau, line1])\n",
    "\n",
    "fig.update_layout(height=800, width=800)\n",
    "plotly.offline.iplot(fig, filename='simple-3d-scatter')\n",
    "# fig.show()"
   ]
  }
 ],
 "metadata": {
  "kernelspec": {
   "display_name": "Python 3",
   "language": "python",
   "name": "python3"
  },
  "language_info": {
   "codemirror_mode": {
    "name": "ipython",
    "version": 3
   },
   "file_extension": ".py",
   "mimetype": "text/x-python",
   "name": "python",
   "nbconvert_exporter": "python",
   "pygments_lexer": "ipython3",
   "version": "3.8.10"
  },
  "orig_nbformat": 4
 },
 "nbformat": 4,
 "nbformat_minor": 2
}
